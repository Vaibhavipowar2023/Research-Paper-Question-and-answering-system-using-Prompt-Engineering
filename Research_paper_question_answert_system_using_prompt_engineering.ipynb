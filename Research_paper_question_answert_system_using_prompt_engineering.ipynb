{
  "nbformat": 4,
  "nbformat_minor": 0,
  "metadata": {
    "colab": {
      "provenance": []
    },
    "kernelspec": {
      "name": "python3",
      "display_name": "Python 3"
    },
    "language_info": {
      "name": "python"
    }
  },
  "cells": [
    {
      "cell_type": "markdown",
      "source": [
        "# **Research Paper Question Answering using Prompt Engineering**"
      ],
      "metadata": {
        "id": "WrkDN-tArxLn"
      }
    },
    {
      "cell_type": "code",
      "source": [
        "!pip install PyPDF2"
      ],
      "metadata": {
        "colab": {
          "base_uri": "https://localhost:8080/"
        },
        "id": "Xdevs0GztD6M",
        "outputId": "96346fb8-2194-4e99-f197-6c4b7ef8da76"
      },
      "execution_count": null,
      "outputs": [
        {
          "output_type": "stream",
          "name": "stdout",
          "text": [
            "Collecting PyPDF2\n",
            "  Downloading pypdf2-3.0.1-py3-none-any.whl.metadata (6.8 kB)\n",
            "Downloading pypdf2-3.0.1-py3-none-any.whl (232 kB)\n",
            "━━━━━━━━━━━━━━━━━━━━━━━━━━━━━━━━━━━━━━━━ 232.6/232.6 kB\n",
            "Installing collected packages: PyPDF2\n",
            "Successfully installed PyPDF2-3.0.1\n"
          ]
        }
      ]
    },
    {
      "cell_type": "markdown",
      "source": [
        "# Import the necessary Libraries"
      ],
      "metadata": {
        "id": "XFG63QSHs3ki"
      }
    },
    {
      "cell_type": "code",
      "execution_count": null,
      "metadata": {
        "id": "TepDK8GCqPw6"
      },
      "outputs": [],
      "source": [
        "import google.generativeai as genai\n",
        "import PyPDF2"
      ]
    },
    {
      "cell_type": "markdown",
      "source": [
        "# Set Gemini API Key"
      ],
      "metadata": {
        "id": "40IlWTEps_Or"
      }
    },
    {
      "cell_type": "code",
      "source": [
        "genai.configure(api_key = \"Use API key\")"
      ],
      "metadata": {
        "id": "TOd3SVa0s-Vs"
      },
      "execution_count": null,
      "outputs": []
    },
    {
      "cell_type": "markdown",
      "source": [
        "# Function to Extract text from a pdf file"
      ],
      "metadata": {
        "id": "E1vXHj9Pt2UO"
      }
    },
    {
      "cell_type": "code",
      "source": [
        "def extract_text_from_pdf(pdf_path):\n",
        "    text = \"\"\n",
        "    with open(pdf_path, \"rb\") as pdf_file:\n",
        "        pdf_reader = PyPDF2.PdfReader(pdf_file)\n",
        "        for page in pdf_reader.pages:\n",
        "            text += page.extract_text()\n",
        "    return text"
      ],
      "metadata": {
        "id": "h3p53CDTtQW-"
      },
      "execution_count": null,
      "outputs": []
    },
    {
      "cell_type": "markdown",
      "source": [
        "# Function to generate tune prompt with examples"
      ],
      "metadata": {
        "id": "_d8-Oru9uQ8H"
      }
    },
    {
      "cell_type": "code",
      "source": [
        "def generate_tuned_prompt(question, paper_text):\n",
        "    return f\"\"\"\n",
        "    You are \"ScholarBot\", a professional AI research assistant trained to analyze academic papers.\n",
        "    Your goal is to **provide detailed, structured, and accurate answers** to research-related questions.\n",
        "    You can also summarize the paper and extract the important keywords.\n",
        "\n",
        "    **Context:**\n",
        "    - The user has uploaded a research paper and needs precise answers.\n",
        "    - Below is an excerpt from the paper:\n",
        "    ```\n",
        "    {paper_text[:2000]} #Truncated for efficiency\n",
        "    ```\n",
        "    ---\n",
        "    **Prompt Tuning: Example-Based Learning (Few-shot)**\n",
        "\n",
        "    **Example 1:**\n",
        "    **User Question:** What is the key finding of this research?\n",
        "    **Ideal Answer:**\n",
        "        🔹 The research identifies **X as a major factor influencing Y**.\n",
        "        🔹 The results show that **Z outperforms traditional methods** by 20%.\n",
        "        🔹 The study concludes that **ABC approach is more effective**.\n",
        "\n",
        "    **Example 2:**\n",
        "    **User Question:** How does the proposed method compare to previous work?\n",
        "    **Ideal Answer:**\n",
        "        🔹 This study **improves upon previous methods** by reducing error rates by 15%.\n",
        "        🔹 Unlike traditional techniques, this approach **integrates deep learning** for better performance.\n",
        "        🔹 The authors highlight **limitations of prior work**, such as high computational costs.\n",
        "    ---\n",
        "\n",
        "    **Now, answer the user's question in the same structured format:**\n",
        "    **User Question:** {question}\n",
        "    **Your Response (Use the structured format above):**\n",
        "    \"\"\"\n"
      ],
      "metadata": {
        "id": "59ZivyL5uCl7"
      },
      "execution_count": null,
      "outputs": []
    },
    {
      "cell_type": "markdown",
      "source": [
        "# Function to get response from Gemini AI"
      ],
      "metadata": {
        "id": "o4d5qVtqv2Wf"
      }
    },
    {
      "cell_type": "code",
      "source": [
        "def get_tuned_answer(question, paper_text):\n",
        "    tuned_prompt = generate_tuned_prompt(question, paper_text)\n",
        "    model = genai.GenerativeModel(\"gemini-pro\")\n",
        "    response = model.generate_content(tuned_prompt)\n",
        "    return response.text"
      ],
      "metadata": {
        "id": "ALAmSKddv02b"
      },
      "execution_count": null,
      "outputs": []
    },
    {
      "cell_type": "markdown",
      "source": [
        "# Main Script execution"
      ],
      "metadata": {
        "id": "9lwyI-uSwUGu"
      }
    },
    {
      "cell_type": "code",
      "source": [
        "if __name__ == \"__main__\":\n",
        "    pdf_path = \"/content/Research_Paper_on_Artificial_Intelligence.pdf\"\n",
        "    question = \"Summarize the paper in few sentences\"\n",
        "\n",
        "    # Extract text from pdf\n",
        "    paper_text = extract_text_from_pdf(pdf_path)\n",
        "\n",
        "    # Get tuned response\n",
        "    answer = get_tuned_answer(question, paper_text)\n",
        "\n",
        "    print(\"\\n Answer:\", answer)"
      ],
      "metadata": {
        "colab": {
          "base_uri": "https://localhost:8080/",
          "height": 270
        },
        "id": "P1hOxoyYwO--",
        "outputId": "311f66b7-5d84-48ea-cfd7-d8d8682666ad"
      },
      "execution_count": null,
      "outputs": [
        {
          "output_type": "stream",
          "name": "stdout",
          "text": [
            "\n",
            " Answer: **Summary:**\n",
            "\n",
            "🔹 Artificial intelligence, a branch of computer science, focuses on developing human-like behaviors in machines.\n",
            "\n",
            "🔹 The field encompasses game playing, expert systems, neural networks, natural language processing, and robotics.\n",
            "\n",
            "🔹 Advances have been made in game playing, with computer programs capable of defeating human players in chess.\n",
            "\n",
            "🔹 Neural networks are gaining prominence in disciplines such as voice recognition and natural language processing.\n",
            "\n",
            "🔹 LISP and Prolog are common programming languages used exclusively for AI applications.\n",
            "\n",
            "🔹 AI aims to reduce human effort, although its growth is limited.\n"
          ]
        }
      ]
    },
    {
      "cell_type": "code",
      "source": [
        "if __name__ == \"__main__\":\n",
        "    pdf_path = \"/content/Research_Paper_on_Artificial_Intelligence.pdf\"\n",
        "    question = \"What are the main focus of this research paper?\"\n",
        "\n",
        "    # Extract text from pdf\n",
        "    paper_text = extract_text_from_pdf(pdf_path)\n",
        "\n",
        "    # Get tuned response\n",
        "    answer = get_tuned_answer(question, paper_text)\n",
        "\n",
        "    print(\"\\n Answer:\", answer)"
      ],
      "metadata": {
        "colab": {
          "base_uri": "https://localhost:8080/",
          "height": 89
        },
        "id": "5gQLtXKf_6bW",
        "outputId": "7181c9b0-786a-4687-e50e-45b214f53701"
      },
      "execution_count": 13,
      "outputs": [
        {
          "output_type": "stream",
          "name": "stdout",
          "text": [
            "\n",
            " Answer: \n",
            "🔹 This research paper provides **a general overview of Artificial Intelligence**.  \n",
            "🔹 It covers **various subfields of AI, including game playing, expert systems, and natural language processing**.  \n",
            "🔹 The authors discuss **the current state of AI and its potential for future development**.\n"
          ]
        }
      ]
    },
    {
      "cell_type": "code",
      "source": [
        "if __name__ == \"__main__\":\n",
        "    pdf_path = \"/content/Research_Paper_on_Artificial_Intelligence.pdf\"\n",
        "    question = \"What is the aim of AI?\"\n",
        "\n",
        "    # Extract text from pdf\n",
        "    paper_text = extract_text_from_pdf(pdf_path)\n",
        "\n",
        "    # Get tuned response\n",
        "    answer = get_tuned_answer(question, paper_text)\n",
        "\n",
        "    print(\"\\n Answer:\", answer)"
      ],
      "metadata": {
        "colab": {
          "base_uri": "https://localhost:8080/",
          "height": 89
        },
        "id": "QykZ08LjAAAH",
        "outputId": "958446b6-ca3d-4dd4-a8bf-70f438bc8412"
      },
      "execution_count": 17,
      "outputs": [
        {
          "output_type": "stream",
          "name": "stdout",
          "text": [
            "\n",
            " Answer: \n",
            "🔹 The research article aims to **define artificial intelligence** (AI) and discuss its applications.  \n",
            "🔹 The authors provide **examples of AI in various fields** like game playing and robotics.  \n",
            "🔹 The paper also **compares different programming languages** used in AI development.\n"
          ]
        }
      ]
    }
  ]
}
